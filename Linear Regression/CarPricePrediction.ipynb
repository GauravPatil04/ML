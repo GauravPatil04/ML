{
 "cells": [
  {
   "cell_type": "markdown",
   "metadata": {},
   "source": [
    "# step 1: **Data Preprocessing**"
   ]
  },
  {
   "cell_type": "markdown",
   "metadata": {},
   "source": [
    "## **Encoding Categorical Values**\n"
   ]
  },
  {
   "cell_type": "code",
   "execution_count": 11,
   "metadata": {},
   "outputs": [
    {
     "name": "stdout",
     "output_type": "stream",
     "text": [
      "      Year  Engine_Size  Mileage  Doors  Owner_Count  Price  Brand_Audi  \\\n",
      "0     2020          4.2   289944      3            5   8501         0.0   \n",
      "1     2012          2.0     5356      2            3  12092         0.0   \n",
      "2     2020          4.2   231440      4            2  11171         0.0   \n",
      "3     2023          2.0   160971      2            1  11780         1.0   \n",
      "4     2003          2.6   286618      3            3   2867         0.0   \n",
      "...    ...          ...      ...    ...          ...    ...         ...   \n",
      "9995  2004          3.7     5794      2            4   8884         0.0   \n",
      "9996  2002          1.4   168000      2            1   6240         0.0   \n",
      "9997  2010          3.0    86664      5            1   9866         0.0   \n",
      "9998  2002          1.4   225772      4            1   4084         0.0   \n",
      "9999  2001          2.1   157882      3            3   3342         0.0   \n",
      "\n",
      "      Brand_BMW  Brand_Chevrolet  Brand_Ford  ...  Model_Tiguan  Model_Tucson  \\\n",
      "0           0.0              0.0         0.0  ...           0.0           0.0   \n",
      "1           0.0              1.0         0.0  ...           0.0           0.0   \n",
      "2           0.0              0.0         0.0  ...           0.0           0.0   \n",
      "3           0.0              0.0         0.0  ...           0.0           0.0   \n",
      "4           0.0              0.0         0.0  ...           0.0           0.0   \n",
      "...         ...              ...         ...  ...           ...           ...   \n",
      "9995        0.0              0.0         0.0  ...           0.0           0.0   \n",
      "9996        0.0              1.0         0.0  ...           0.0           0.0   \n",
      "9997        1.0              0.0         0.0  ...           0.0           0.0   \n",
      "9998        0.0              0.0         1.0  ...           0.0           0.0   \n",
      "9999        0.0              0.0         0.0  ...           1.0           0.0   \n",
      "\n",
      "      Model_X5  Fuel_Type_Diesel  Fuel_Type_Electric  Fuel_Type_Hybrid  \\\n",
      "0          0.0               1.0                 0.0               0.0   \n",
      "1          0.0               0.0                 0.0               1.0   \n",
      "2          0.0               1.0                 0.0               0.0   \n",
      "3          0.0               0.0                 1.0               0.0   \n",
      "4          0.0               0.0                 0.0               1.0   \n",
      "...        ...               ...                 ...               ...   \n",
      "9995       0.0               1.0                 0.0               0.0   \n",
      "9996       0.0               0.0                 1.0               0.0   \n",
      "9997       0.0               0.0                 0.0               0.0   \n",
      "9998       0.0               0.0                 0.0               1.0   \n",
      "9999       0.0               1.0                 0.0               0.0   \n",
      "\n",
      "      Fuel_Type_Petrol  Transmission_Automatic  Transmission_Manual  \\\n",
      "0                  0.0                     0.0                  1.0   \n",
      "1                  0.0                     1.0                  0.0   \n",
      "2                  0.0                     1.0                  0.0   \n",
      "3                  0.0                     0.0                  1.0   \n",
      "4                  0.0                     0.0                  0.0   \n",
      "...                ...                     ...                  ...   \n",
      "9995               0.0                     0.0                  0.0   \n",
      "9996               0.0                     1.0                  0.0   \n",
      "9997               1.0                     1.0                  0.0   \n",
      "9998               0.0                     1.0                  0.0   \n",
      "9999               0.0                     0.0                  1.0   \n",
      "\n",
      "      Transmission_Semi-Automatic  \n",
      "0                             0.0  \n",
      "1                             0.0  \n",
      "2                             0.0  \n",
      "3                             0.0  \n",
      "4                             1.0  \n",
      "...                           ...  \n",
      "9995                          1.0  \n",
      "9996                          0.0  \n",
      "9997                          0.0  \n",
      "9998                          0.0  \n",
      "9999                          0.0  \n",
      "\n",
      "[10000 rows x 53 columns]\n"
     ]
    }
   ],
   "source": [
    "import pandas as pd\n",
    "import matplotlib.pyplot as plt\n",
    "from sklearn.preprocessing import OneHotEncoder, StandardScaler\n",
    "from sklearn.linear_model import LinearRegression\n",
    "from sklearn.model_selection import train_test_split\n",
    "from sklearn.metrics import mean_squared_error, r2_score\n",
    "\n",
    "# Load dataset\n",
    "df = pd.read_csv(\"csvs/car_price_dataset.csv\")\n",
    "\n",
    "# One-Hot Encoding for categorical columns\n",
    "encoder = OneHotEncoder(handle_unknown='ignore', sparse_output=False)\n",
    "encoded_data = encoder.fit_transform(df[['Brand', 'Model', 'Fuel_Type', 'Transmission']])\n",
    "encoded_df = pd.DataFrame(encoded_data, columns=encoder.get_feature_names_out())\n",
    "\n",
    "'''\n",
    "1. We create an instance of the OneHotEncoder class. The handle_unknown='ignore' parameter\n",
    "tells the encoder to ignore any new categories that were not seen during training.\n",
    "The sparse_output=False parameter ensures that the output is a dense NumPy array instead of a sparse matrix.\n",
    "\n",
    "2. We use the fit_transform method on the encoder with double square brackets to select\n",
    "multiple columns ('Brand', 'Model', 'Fuel_Type', and 'Transmission').\n",
    "Double square brackets are used because single square brackets would return\n",
    "a Series for a single column, but we need a DataFrame to encode multiple columns.\n",
    "\n",
    "3. We create a DataFrame from the encoded data using pd.DataFrame.\n",
    "The get_feature_names_out() method returns a list of all the new one-hot encoded column names.\n",
    "'''\n",
    "\n",
    "# Concatenate encoded features and drop original categorical columns\n",
    "df = pd.concat([df, encoded_df], axis=1).drop(['Brand', 'Fuel_Type', 'Model', 'Transmission'], axis=1)\n",
    "print(df)\n",
    "\n"
   ]
  },
  {
   "cell_type": "markdown",
   "metadata": {},
   "source": [
    "## Splitting Data"
   ]
  },
  {
   "cell_type": "code",
   "execution_count": 12,
   "metadata": {},
   "outputs": [
    {
     "name": "stdout",
     "output_type": "stream",
     "text": [
      "Null values are:\n",
      " Year                           0\n",
      "Engine_Size                    0\n",
      "Mileage                        0\n",
      "Doors                          0\n",
      "Owner_Count                    0\n",
      "Price                          0\n",
      "Brand_Audi                     0\n",
      "Brand_BMW                      0\n",
      "Brand_Chevrolet                0\n",
      "Brand_Ford                     0\n",
      "Brand_Honda                    0\n",
      "Brand_Hyundai                  0\n",
      "Brand_Kia                      0\n",
      "Brand_Mercedes                 0\n",
      "Brand_Toyota                   0\n",
      "Brand_Volkswagen               0\n",
      "Model_3 Series                 0\n",
      "Model_5 Series                 0\n",
      "Model_A3                       0\n",
      "Model_A4                       0\n",
      "Model_Accord                   0\n",
      "Model_C-Class                  0\n",
      "Model_CR-V                     0\n",
      "Model_Camry                    0\n",
      "Model_Civic                    0\n",
      "Model_Corolla                  0\n",
      "Model_E-Class                  0\n",
      "Model_Elantra                  0\n",
      "Model_Equinox                  0\n",
      "Model_Explorer                 0\n",
      "Model_Fiesta                   0\n",
      "Model_Focus                    0\n",
      "Model_GLA                      0\n",
      "Model_Golf                     0\n",
      "Model_Impala                   0\n",
      "Model_Malibu                   0\n",
      "Model_Optima                   0\n",
      "Model_Passat                   0\n",
      "Model_Q5                       0\n",
      "Model_RAV4                     0\n",
      "Model_Rio                      0\n",
      "Model_Sonata                   0\n",
      "Model_Sportage                 0\n",
      "Model_Tiguan                   0\n",
      "Model_Tucson                   0\n",
      "Model_X5                       0\n",
      "Fuel_Type_Diesel               0\n",
      "Fuel_Type_Electric             0\n",
      "Fuel_Type_Hybrid               0\n",
      "Fuel_Type_Petrol               0\n",
      "Transmission_Automatic         0\n",
      "Transmission_Manual            0\n",
      "Transmission_Semi-Automatic    0\n",
      "dtype: int64\n"
     ]
    }
   ],
   "source": [
    "x = df.drop('Price', axis=1)\n",
    "y = df['Price']\n",
    "\n",
    "scaler = StandardScaler()\n",
    "x = scaler.fit_transform(x)\n",
    "print(\"Null values are:\\n\",df.isnull().sum())\n",
    "\n",
    "\n"
   ]
  },
  {
   "cell_type": "markdown",
   "metadata": {},
   "source": [
    "## Plotting"
   ]
  },
  {
   "cell_type": "code",
   "execution_count": null,
   "metadata": {},
   "outputs": [],
   "source": [
    "\n",
    "# Scatter plot of each feature vs Price\n",
    "\n",
    "for column in df.columns:\n",
    "    if column != 'Price':  \n",
    "        plt.figure(figsize=(10, 6))\n",
    "        plt.scatter(df[column], df['Price'], alpha=0.5)\n",
    "        plt.title(f'Scatter Plot of {column} vs Price')\n",
    "        plt.xlabel(column)\n",
    "        plt.ylabel('Price')\n",
    "        plt.grid(True)\n",
    "        plt.show()\n"
   ]
  },
  {
   "cell_type": "code",
   "execution_count": null,
   "metadata": {},
   "outputs": [],
   "source": [
    "# Box plot to find outliers\n",
    "import seaborn as sns\n",
    "for column in [\"Year\",\"Engine_Size\",\"Mileage\",\"Doors\"]:\n",
    "    if column != 'Price':  \n",
    "        plt.figure(figsize=(10, 6))\n",
    "        sns.boxplot(x = df[column])\n",
    "        plt.title(f\"Box Plot of {column}\")\n",
    "        plt.xlabel(f\"{column}\")\n",
    "        plt.show()\n"
   ]
  },
  {
   "cell_type": "markdown",
   "metadata": {},
   "source": [
    "# Fitting the model with linear regression"
   ]
  },
  {
   "cell_type": "code",
   "execution_count": 15,
   "metadata": {},
   "outputs": [
    {
     "name": "stdout",
     "output_type": "stream",
     "text": [
      "Mean Squared Error: $4213.92\n",
      "R-squared: 0.9995\n"
     ]
    }
   ],
   "source": [
    "\n",
    "# Train-Test Split\n",
    "x_train, x_test, y_train, y_test = train_test_split(x, y, test_size=0.2, random_state=42)\n",
    "\n",
    "# Train Linear Regression Model\n",
    "model = LinearRegression()\n",
    "model.fit(x_train, y_train)\n",
    "\n",
    "# Evaluate Model\n",
    "y_pred = model.predict(x_test)\n",
    "mse = mean_squared_error(y_test, y_pred)\n",
    "r2 = r2_score(y_test, y_pred)\n",
    "\n",
    "print(f\"Mean Squared Error: ${mse:.2f}\")\n",
    "print(f\"R-squared: {r2:.4f}\")\n"
   ]
  },
  {
   "cell_type": "markdown",
   "metadata": {},
   "source": [
    "# Taking User Input"
   ]
  },
  {
   "cell_type": "code",
   "execution_count": null,
   "metadata": {},
   "outputs": [],
   "source": [
    "# User Input\n",
    "brand = input(\"Enter Car Brand: \").lower()\n",
    "modell = input(\"Enter Car Model: \").lower()\n",
    "year = int(input(\"Enter Year: \"))\n",
    "engine_size = float(input(\"Enter Engine Size (cc): \"))\n",
    "fuel_type = input(\"Enter Fuel Type: \").lower()\n",
    "transmission = input(\"Enter Transmission Type: \").lower()\n",
    "mileage = float(input(\"Enter Mileage (km): \"))\n",
    "doors = int(input(\"Enter Number of Doors: \"))\n",
    "owner_count = int(input(\"Enter Owner Count: \"))\n",
    "\n",
    "# Preprocess User Input\n",
    "input_data = pd.DataFrame([[brand, modell, fuel_type, transmission, year, mileage, engine_size, doors, owner_count]], \n",
    "                          columns=['Brand', 'Model', 'Fuel_Type', 'Transmission', 'Year', 'Mileage', 'Engine_Size', 'Doors', 'Owner_Count'])\n",
    "print(input_data)\n",
    "# Transform input using the same encoder\n",
    "encoded_input = encoder.transform(input_data[['Brand', 'Model', 'Fuel_Type', 'Transmission']])\n",
    "encoded_input_df = pd.DataFrame(encoded_input, columns=encoder.get_feature_names_out())\n",
    "\n",
    "# Merge with numerical features\n",
    "final_input = pd.concat([encoded_input_df, input_data[['Year', 'Mileage', 'Engine_Size', 'Doors', 'Owner_Count']]], axis=1)\n",
    "\n",
    "# Ensure the columns are in the same order as the training data\n",
    "final_input = final_input.reindex(columns=df.drop('Price', axis=1).columns, fill_value=0)\n",
    "\n",
    "# Final scaled input data\n",
    "final_scaled_input = scaler.transform(final_input)\n",
    "\n",
    "\n",
    "# --- Predict Price ---\n",
    "predicted_price = model.predict(final_scaled_input)\n",
    "print(f\"\\nPredicted Car Price: ${predicted_price[0]:,.2f}\")"
   ]
  }
 ],
 "metadata": {
  "kernelspec": {
   "display_name": "Python 3",
   "language": "python",
   "name": "python3"
  },
  "language_info": {
   "codemirror_mode": {
    "name": "ipython",
    "version": 3
   },
   "file_extension": ".py",
   "mimetype": "text/x-python",
   "name": "python",
   "nbconvert_exporter": "python",
   "pygments_lexer": "ipython3",
   "version": "3.12.1"
  }
 },
 "nbformat": 4,
 "nbformat_minor": 2
}
